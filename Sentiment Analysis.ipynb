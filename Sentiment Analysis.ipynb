{
 "cells": [
  {
   "cell_type": "code",
   "execution_count": 2,
   "metadata": {},
   "outputs": [
    {
     "name": "stderr",
     "output_type": "stream",
     "text": [
      "[nltk_data] Downloading package stopwords to\n",
      "[nltk_data]     C:\\Users\\suvan\\AppData\\Roaming\\nltk_data...\n",
      "[nltk_data]   Package stopwords is already up-to-date!\n",
      "[nltk_data] Downloading package punkt to\n",
      "[nltk_data]     C:\\Users\\suvan\\AppData\\Roaming\\nltk_data...\n",
      "[nltk_data]   Package punkt is already up-to-date!\n",
      "[nltk_data] Downloading package wordnet to\n",
      "[nltk_data]     C:\\Users\\suvan\\AppData\\Roaming\\nltk_data...\n",
      "[nltk_data]   Package wordnet is already up-to-date!\n"
     ]
    }
   ],
   "source": [
    "from textblob import TextBlob\n",
    "import demoji\n",
    "import text2emotion as te\n",
    "from vaderSentiment.vaderSentiment import SentimentIntensityAnalyzer\n",
    "#demoji.download_codes()\n",
    "from indic_transliteration import sanscript\n",
    "from indic_transliteration.sanscript import transliterate"
   ]
  },
  {
   "cell_type": "code",
   "execution_count": 3,
   "metadata": {},
   "outputs": [],
   "source": [
    "def preprocess(sentence):\n",
    "    \"\"\"Finds all emoji's in text converts it to text\n",
    "    Corrects for spelling mistake\"\"\"\n",
    "    \n",
    "    demojize = []\n",
    "    \n",
    "    emodict = demoji.findall(sentence)\n",
    "    \n",
    "    for i in sentence.split():\n",
    "        if i.isalpha():\n",
    "            demojize.append(i)\n",
    "            \n",
    "    for i in emodict.values():\n",
    "        demojize.append(i)\n",
    "        \n",
    "    final=' '.join(demojize)\n",
    "    #print(final)\n",
    "\n",
    "    blob = TextBlob(final)\n",
    "    correct = blob.correct()\n",
    "    return correct"
   ]
  },
  {
   "cell_type": "code",
   "execution_count": 3,
   "metadata": {},
   "outputs": [],
   "source": [
    "def predict(sentence):\n",
    "    \"\"\"\n",
    "    Analaysis of sentence using TextBlob\n",
    "    \"\"\"\n",
    "    correct=(preprocess(sentence))\n",
    "    #print(blob)\n",
    "    #print(correct)\n",
    "    pol = (correct.sentiment.polarity)\n",
    "    if pol<0:\n",
    "        print(\"Sad or Feeling Low\")\n",
    "    elif pol>0:\n",
    "        print(\"Happy or Positive\")\n",
    "    elif pol==0:\n",
    "        print(\"Neutral Buddy\")\n",
    "    "
   ]
  },
  {
   "cell_type": "code",
   "execution_count": 4,
   "metadata": {},
   "outputs": [
    {
     "name": "stdout",
     "output_type": "stream",
     "text": [
      "Sad or Feeling Low\n"
     ]
    }
   ],
   "source": [
    "predict(\"I feel weird and low today\")"
   ]
  },
  {
   "cell_type": "code",
   "execution_count": 5,
   "metadata": {},
   "outputs": [
    {
     "name": "stdout",
     "output_type": "stream",
     "text": [
      "Neutral Buddy\n"
     ]
    }
   ],
   "source": [
    "predict(\"This is a goat\")"
   ]
  },
  {
   "cell_type": "code",
   "execution_count": 8,
   "metadata": {},
   "outputs": [
    {
     "name": "stdout",
     "output_type": "stream",
     "text": [
      "Happy or Positive\n"
     ]
    }
   ],
   "source": [
    "predict(\"Im very happy of you\")"
   ]
  },
  {
   "cell_type": "code",
   "execution_count": 9,
   "metadata": {},
   "outputs": [
    {
     "name": "stdout",
     "output_type": "stream",
     "text": [
      "Neutral Buddy\n",
      "Neutral Buddy\n",
      "Sad or Feeling Low\n"
     ]
    }
   ],
   "source": [
    "predict(\"🥳\")\n",
    "predict(\"😐\")\n",
    "predict(\"😭\")"
   ]
  },
  {
   "cell_type": "markdown",
   "metadata": {},
   "source": [
    "Text blob is not used for texts with emoji \n",
    "So I moved on to *VADER*"
   ]
  },
  {
   "cell_type": "code",
   "execution_count": 4,
   "metadata": {},
   "outputs": [],
   "source": [
    "def predict2(sentence):\n",
    "    sid_obj= SentimentIntensityAnalyzer()\n",
    "    correct = preprocess(sentence)\n",
    "    pol=sid_obj.polarity_scores(str(sentence))[\"compound\"]\n",
    "    if pol<0:\n",
    "        print(\"Sad or Feeling Low\")\n",
    "    elif pol>0:\n",
    "        print(\"Happy or Positive\")\n",
    "    elif pol==0:\n",
    "        print(\"Neutral Buddy\")\n",
    "    "
   ]
  },
  {
   "cell_type": "code",
   "execution_count": 18,
   "metadata": {},
   "outputs": [
    {
     "name": "stdout",
     "output_type": "stream",
     "text": [
      "Happy or Positive\n",
      "Neutral Buddy\n",
      "Sad or Feeling Low\n"
     ]
    },
    {
     "data": {
      "text/plain": [
       "{'🤪': 'zany face', '🥳': 'partying face', '🤩': 'star-struck'}"
      ]
     },
     "execution_count": 18,
     "metadata": {},
     "output_type": "execute_result"
    }
   ],
   "source": [
    "predict2(\"🥳\")\n",
    "predict2(\"😐\")\n",
    "predict2(\"😧\")"
   ]
  },
  {
   "cell_type": "code",
   "execution_count": 19,
   "metadata": {},
   "outputs": [
    {
     "name": "stdout",
     "output_type": "stream",
     "text": [
      "Happy or Positive\n",
      "Neutral Buddy\n"
     ]
    }
   ],
   "source": [
    "predict2(\"Ahh en pa neenga vera 🤣\")\n",
    "predict2(\"Get lost im angry on you 😡\")"
   ]
  },
  {
   "cell_type": "markdown",
   "metadata": {},
   "source": [
    "Vader Analysis emojis well but it cannot predict feelings like anger, suprise and fear \n",
    "So I am moving on to *Text2Emotion*"
   ]
  },
  {
   "cell_type": "code",
   "execution_count": 15,
   "metadata": {},
   "outputs": [],
   "source": [
    "def predict3(sentence):\n",
    "    process = str(preprocess(sentence))\n",
    "    print (te.get_emotion(process))\n"
   ]
  },
  {
   "cell_type": "code",
   "execution_count": 7,
   "metadata": {},
   "outputs": [
    {
     "name": "stdout",
     "output_type": "stream",
     "text": [
      "{'Happy': 1.0, 'Angry': 0.0, 'Surprise': 0.0, 'Sad': 0.0, 'Fear': 0.0}\n"
     ]
    }
   ],
   "source": [
    "#predict3(\"Ahh en pa neenga vera 🤣\")\n",
    "#predict3(\"Get lost im angry on you 😡\")\n",
    "# predict3(\"Im very frightened\")\n",
    "predict3(\"I love you\")"
   ]
  },
  {
   "cell_type": "code",
   "execution_count": 16,
   "metadata": {},
   "outputs": [
    {
     "name": "stdout",
     "output_type": "stream",
     "text": [
      "{'Happy': 0.5, 'Angry': 0.0, 'Surprise': 0.0, 'Sad': 0.5, 'Fear': 0.0}\n"
     ]
    }
   ],
   "source": [
    "predict3(\"I am very sad I am happy\")"
   ]
  },
  {
   "cell_type": "markdown",
   "metadata": {},
   "source": [
    "This works pretty good but the aim is here to find mood for both english and \n",
    "SO should find develop some stuff for **Tamil**"
   ]
  },
  {
   "cell_type": "code",
   "execution_count": null,
   "metadata": {},
   "outputs": [],
   "source": []
  },
  {
   "cell_type": "code",
   "execution_count": 13,
   "metadata": {},
   "outputs": [
    {
     "name": "stdout",
     "output_type": "stream",
     "text": [
      "ஆஹ்ஹ் ஏந் ப நீந்க வேர\n"
     ]
    }
   ],
   "source": [
    "text = \"Ahh en pa neenga vera\"\n",
    "print(transliterate(text, sanscript.ITRANS,sanscript.TAMIL))"
   ]
  },
  {
   "cell_type": "code",
   "execution_count": 23,
   "metadata": {},
   "outputs": [
    {
     "name": "stdout",
     "output_type": "stream",
     "text": [
      "what's up bro\n",
      "{'Happy': 0.0, 'Angry': 0.0, 'Surprise': 0.0, 'Sad': 1.0, 'Fear': 0.0}\n",
      "\n",
      "Are you ok?\n",
      "{'Happy': 0, 'Angry': 0, 'Surprise': 0, 'Sad': 0, 'Fear': 0}\n",
      "\n",
      "It was a boring day\n",
      "{'Happy': 0.5, 'Angry': 0.0, 'Surprise': 0.0, 'Sad': 0.5, 'Fear': 0.0}\n",
      "\n",
      "This mam spoiled my mood dude\n",
      "{'Happy': 0.0, 'Angry': 0.0, 'Surprise': 0.0, 'Sad': 0.5, 'Fear': 0.5}\n",
      "\n",
      "This was so fun\n",
      "{'Happy': 1.0, 'Angry': 0.0, 'Surprise': 0.0, 'Sad': 0.0, 'Fear': 0.0}\n",
      "\n",
      "Woahh dude it was awesome ? \n",
      "{'Happy': 0.0, 'Angry': 0.0, 'Surprise': 1.0, 'Sad': 0.0, 'Fear': 0.0}\n",
      "\n"
     ]
    }
   ],
   "source": [
    "li=[\"what's up bro\",\"Are you ok?\",\"It was a boring day\",\"This mam spoiled my mood dude\",\"This was so fun\",\"Woahh dude it was awesome ? \"]\n",
    "\n",
    "for i in li:\n",
    "    print(i)\n",
    "    predict3(i)\n",
    "    print(\"\")"
   ]
  },
  {
   "cell_type": "code",
   "execution_count": null,
   "metadata": {},
   "outputs": [],
   "source": []
  }
 ],
 "metadata": {
  "kernelspec": {
   "display_name": "Python 3",
   "language": "python",
   "name": "python3"
  },
  "language_info": {
   "codemirror_mode": {
    "name": "ipython",
    "version": 3
   },
   "file_extension": ".py",
   "mimetype": "text/x-python",
   "name": "python",
   "nbconvert_exporter": "python",
   "pygments_lexer": "ipython3",
   "version": "3.7.6"
  }
 },
 "nbformat": 4,
 "nbformat_minor": 4
}
